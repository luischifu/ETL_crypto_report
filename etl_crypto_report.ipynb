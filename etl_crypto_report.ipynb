{
 "cells": [
  {
   "cell_type": "markdown",
   "metadata": {},
   "source": [
    "# ETL de las Principales Cryptomonedas\n",
    "_____________________________________________________________________________________________________________\n",
    "\n",
    "## Introducción\n",
    "Los datos utilizados en este proyecto son extraidos de la API de alphavantage, la cual es una plataforma que ofrece datos en tiempo real de la información historica de precio de las diferentes stocks. En este proyecto nos enfocaremos en algunas de las principales cryptomonedas de este 2023, las cuales son: Bitcoin, ethereum, litecoin, cardano y bitcoin-cash.\n",
    "\n",
    "Luego almacenaremos esos datos en una base de datos en la nube. En esta ocacion se utilizó el servicio RDS de Amazon Web Service.\n",
    "\n",
    "\n",
    "## Fuentes\n",
    "Sitio web de Alpha vantage https://www.alphavantage.co/<br>\n",
    "Amazon web service https://aws.amazon.com/<br>\n",
    "Sitio web de noticias sobre cryptomonedas https://www.criptonoticias.com/mercados/por-que-bitcoin-cayo-preci-bajo-2022-aqui-razones/\n",
    "\n",
    "\n",
    "## Objetivos\n",
    "realizar el proceso de extracción, transformación y carga de datos (ETL).<br>\n",
    "Obtener información del comportamiento de las criptomonedas"
   ]
  },
  {
   "cell_type": "code",
   "execution_count": 87,
   "metadata": {},
   "outputs": [
    {
     "name": "stdout",
     "output_type": "stream",
     "text": [
      "Requirement already satisfied: psycopg2 in c:\\users\\pc\\anaconda3\\lib\\site-packages (2.9.5)\n"
     ]
    }
   ],
   "source": [
    "!pip install psycopg2"
   ]
  },
  {
   "cell_type": "code",
   "execution_count": 12,
   "metadata": {},
   "outputs": [
    {
     "name": "stdout",
     "output_type": "stream",
     "text": [
      "Collecting ipynb\n",
      "  Downloading ipynb-0.5.1-py3-none-any.whl (6.9 kB)\n",
      "Installing collected packages: ipynb\n",
      "Successfully installed ipynb-0.5.1\n",
      "Note: you may need to restart the kernel to use updated packages.\n"
     ]
    }
   ],
   "source": [
    "pip install ipynb"
   ]
  },
  {
   "cell_type": "code",
   "execution_count": 10,
   "metadata": {},
   "outputs": [],
   "source": [
    "import pandas as pd\n",
    "import matplotlib.pyplot as plt\n",
    "import numpy as np\n",
    "import requests\n",
    "import psycopg2 as ps\n",
    "import cred #modulo en donde almaceno las credenciales "
   ]
  },
  {
   "cell_type": "code",
   "execution_count": 6,
   "metadata": {},
   "outputs": [],
   "source": [
    "API_KEY = cred.API_KEY\n",
    "\n",
    "def get_data(symbol, market, api_key):\n",
    "    \"\"\"Funcion encargada en obtener los datos solicitados de la API y los devuelve en formato JSON\"\"\"\n",
    "    \n",
    "    url = 'https://www.alphavantage.co/query?function=DIGITAL_CURRENCY_DAILY&symbol='+symbol+'&market='+market+'&apikey='+API_KEY\n",
    "    r = requests.get(url)\n",
    "    data = r.json()\n",
    "\n",
    "    return data"
   ]
  },
  {
   "cell_type": "code",
   "execution_count": 55,
   "metadata": {},
   "outputs": [],
   "source": [
    "def crear_dataframe(data):\n",
    "    \"\"\"Funcion que recibe los datos en formato Json y devuelve un dataframe\"\"\"\n",
    "    data_new = data['Time Series (Digital Currency Daily)']\n",
    "    df = pd.DataFrame(data_new)\n",
    "    return df.transpose()\n",
    "\n",
    "def limpiar_columnas(data):\n",
    "    \"\"\"Funcion encargada de eliminar las columnas innecesarias\"\"\"\n",
    "    return data[['1a. open (USD)', #'1b. open (USD)', \n",
    "             '2a. high (USD)', #'2b. high (USD)',\n",
    "               '3a. low (USD)', #'3b. low (USD)', \n",
    "             '4a. close (USD)', #'4b. close (USD)',\n",
    "       '5. volume', '6. market cap (USD)']]\n",
    "\n",
    "def convertir_column(df):\n",
    "    \"\"\"Funcion encargada de cambiar el valor de las columnas de dataframe a tipo numerico\"\"\"\n",
    "    for column in df.columns:\n",
    "        df[column] = pd.to_numeric(df[column], errors='coerce')\n",
    "    return df"
   ]
  },
  {
   "cell_type": "code",
   "execution_count": 56,
   "metadata": {},
   "outputs": [],
   "source": [
    "data_BTC = get_data('BTC', 'USD', API_KEY) #Datos de bitcoin\n",
    "data_ETH = get_data('ETH', 'USD', API_KEY) #Datos de ethereum\n",
    "data_LTC = get_data('LTC', 'USD', API_KEY) #Datos de litecoin\n",
    "data_ADA = get_data('ADA', 'USD', API_KEY) #Datos de Cardano\n",
    "data_BCH = get_data('BCH', 'USD', API_KEY) #Datos de BitcoinCash"
   ]
  },
  {
   "cell_type": "code",
   "execution_count": 57,
   "metadata": {},
   "outputs": [],
   "source": [
    "#Se llama a las funciones que crean los dataframes\n",
    "df_ETH = crear_dataframe(data_ETH)\n",
    "df_BTC = crear_dataframe(data_BTC)\n",
    "data_LTC = crear_dataframe(data_LTC)\n",
    "data_ADA = crear_dataframe(data_ADA)\n",
    "data_BCH = crear_dataframe(data_BCH)\n",
    "\n",
    "#Se llaman a las funciones que eliminan columnas innecesarias\n",
    "df_BTC_fix  = limpiar_columnas(df_BTC)\n",
    "df_ETH_fix = limpiar_columnas(df_ETH)\n",
    "data_LTC_fix = limpiar_columnas(data_LTC)\n",
    "data_ADA_fix = limpiar_columnas(data_ADA)\n",
    "data_BCH_fix = limpiar_columnas(data_BCH)"
   ]
  },
  {
   "cell_type": "code",
   "execution_count": 7,
   "metadata": {},
   "outputs": [
    {
     "data": {
      "text/plain": [
       "1a. open (USD)         0\n",
       "2a. high (USD)         0\n",
       "3a. low (USD)          0\n",
       "4a. close (USD)        0\n",
       "5. volume              0\n",
       "6. market cap (USD)    0\n",
       "dtype: int64"
      ]
     },
     "execution_count": 7,
     "metadata": {},
     "output_type": "execute_result"
    }
   ],
   "source": [
    "df_BTC_fix.isna().sum()"
   ]
  },
  {
   "cell_type": "code",
   "execution_count": 8,
   "metadata": {},
   "outputs": [
    {
     "data": {
      "text/plain": [
       "1a. open (USD)         0\n",
       "2a. high (USD)         0\n",
       "3a. low (USD)          0\n",
       "4a. close (USD)        0\n",
       "5. volume              0\n",
       "6. market cap (USD)    0\n",
       "dtype: int64"
      ]
     },
     "execution_count": 8,
     "metadata": {},
     "output_type": "execute_result"
    }
   ],
   "source": [
    "df_ETH_fix.isna().sum()"
   ]
  },
  {
   "cell_type": "code",
   "execution_count": 9,
   "metadata": {},
   "outputs": [
    {
     "data": {
      "text/plain": [
       "1a. open (USD)         0\n",
       "2a. high (USD)         0\n",
       "3a. low (USD)          0\n",
       "4a. close (USD)        0\n",
       "5. volume              0\n",
       "6. market cap (USD)    0\n",
       "dtype: int64"
      ]
     },
     "execution_count": 9,
     "metadata": {},
     "output_type": "execute_result"
    }
   ],
   "source": [
    "data_LTC_fix.isna().sum()"
   ]
  },
  {
   "cell_type": "code",
   "execution_count": 10,
   "metadata": {},
   "outputs": [
    {
     "data": {
      "text/plain": [
       "1a. open (USD)         0\n",
       "2a. high (USD)         0\n",
       "3a. low (USD)          0\n",
       "4a. close (USD)        0\n",
       "5. volume              0\n",
       "6. market cap (USD)    0\n",
       "dtype: int64"
      ]
     },
     "execution_count": 10,
     "metadata": {},
     "output_type": "execute_result"
    }
   ],
   "source": [
    "data_ADA_fix.isna().sum()"
   ]
  },
  {
   "cell_type": "code",
   "execution_count": 11,
   "metadata": {},
   "outputs": [
    {
     "data": {
      "text/plain": [
       "1a. open (USD)         0\n",
       "2a. high (USD)         0\n",
       "3a. low (USD)          0\n",
       "4a. close (USD)        0\n",
       "5. volume              0\n",
       "6. market cap (USD)    0\n",
       "dtype: int64"
      ]
     },
     "execution_count": 11,
     "metadata": {},
     "output_type": "execute_result"
    }
   ],
   "source": [
    "data_BCH_fix.isna().sum()"
   ]
  },
  {
   "cell_type": "code",
   "execution_count": 58,
   "metadata": {},
   "outputs": [
    {
     "name": "stderr",
     "output_type": "stream",
     "text": [
      "<ipython-input-55-7c843824cb40>:18: SettingWithCopyWarning: \n",
      "A value is trying to be set on a copy of a slice from a DataFrame.\n",
      "Try using .loc[row_indexer,col_indexer] = value instead\n",
      "\n",
      "See the caveats in the documentation: https://pandas.pydata.org/pandas-docs/stable/user_guide/indexing.html#returning-a-view-versus-a-copy\n",
      "  df[column] = pd.to_numeric(df[column], errors='coerce')\n"
     ]
    }
   ],
   "source": [
    "df_BTC_fix = convertir_column(df_BTC_fix)\n",
    "df_ETH_fix = convertir_column(df_ETH_fix)\n",
    "data_LTC_fix = convertir_column(data_LTC_fix)\n",
    "data_ADA_fix = convertir_column(data_ADA_fix)\n",
    "data_BCH_fix = convertir_column(data_BCH_fix)"
   ]
  },
  {
   "cell_type": "code",
   "execution_count": 13,
   "metadata": {},
   "outputs": [
    {
     "data": {
      "text/plain": [
       "1a. open (USD)         float64\n",
       "2a. high (USD)         float64\n",
       "3a. low (USD)          float64\n",
       "4a. close (USD)        float64\n",
       "5. volume              float64\n",
       "6. market cap (USD)    float64\n",
       "dtype: object"
      ]
     },
     "execution_count": 13,
     "metadata": {},
     "output_type": "execute_result"
    }
   ],
   "source": [
    "data_BCH_fix.dtypes"
   ]
  },
  {
   "cell_type": "code",
   "execution_count": 14,
   "metadata": {},
   "outputs": [
    {
     "data": {
      "text/plain": [
       "1a. open (USD)         float64\n",
       "2a. high (USD)         float64\n",
       "3a. low (USD)          float64\n",
       "4a. close (USD)        float64\n",
       "5. volume              float64\n",
       "6. market cap (USD)    float64\n",
       "dtype: object"
      ]
     },
     "execution_count": 14,
     "metadata": {},
     "output_type": "execute_result"
    }
   ],
   "source": [
    "df_BTC_fix.dtypes"
   ]
  },
  {
   "cell_type": "markdown",
   "metadata": {},
   "source": [
    "## Evolucion de las cryptomonedas en los ultimos 365 días"
   ]
  },
  {
   "cell_type": "code",
   "execution_count": 15,
   "metadata": {},
   "outputs": [
    {
     "data": {
      "image/png": "[encoded data removed]",
      "text/plain": [
       "<Figure size 1152x576 with 1 Axes>"
      ]
     },
     "metadata": {
      "needs_background": "light"
     },
     "output_type": "display_data"
    }
   ],
   "source": [
    "fig, ax = plt.subplots()\n",
    "fig.set_size_inches(16, 8)\n",
    "df_BTC_fix.head(365).plot( y = '4a. close (USD)', ax = ax)\n",
    "df_ETH_fix.head(365).plot( y = '4a. close (USD)', ax = ax)\n",
    "data_LTC_fix.head(365).plot( y = '4a. close (USD)', ax = ax)\n",
    "data_ADA_fix.head(365).plot( y = '4a. close (USD)', ax = ax)\n",
    "data_BCH_fix.head(365).plot( y = '4a. close (USD)', ax = ax)\n",
    "ax.invert_xaxis()\n",
    "ax.legend(['BITCOIN', 'ETHERIUM', 'LITECOIN', 'CARDANO', 'BITCOIN-CASH'])\n",
    "plt.title('Evolución en el ultimo año')\n",
    "plt.show()"
   ]
  },
  {
   "cell_type": "markdown",
   "metadata": {},
   "source": [
    "## observaciones\n",
    "Podemos observar que la grafica de bitcoin al tener un precio mucho mayor a las demás dificulta la visibilidad a las otras monedas. Aunque se alcanza a visualizar bien ethereum, y segun muestra la gráfica, bitcoin es mucho mas irregular en comparación con ethereum, cuyo precio se observa que es más constante. Aunque probablemente pueda parecer mas irregular debido al hecho de que al ser valores mas grandes no se note tanto la irregularidad de ethereum"
   ]
  },
  {
   "cell_type": "markdown",
   "metadata": {},
   "source": [
    "## Vamos a observar otra gráfica, pero sin bitcoin"
   ]
  },
  {
   "cell_type": "code",
   "execution_count": 16,
   "metadata": {},
   "outputs": [
    {
     "data": {
      "image/png": "[encoded data removed]",
      "text/plain": [
       "<Figure size 1152x576 with 1 Axes>"
      ]
     },
     "metadata": {
      "needs_background": "light"
     },
     "output_type": "display_data"
    }
   ],
   "source": [
    "fig, ax = plt.subplots()\n",
    "fig.set_size_inches(16, 8)\n",
    "\n",
    "df_ETH_fix.head(365).plot( y = '4a. close (USD)', ax = ax)\n",
    "data_LTC_fix.head(365).plot( y = '4a. close (USD)', ax = ax)\n",
    "data_ADA_fix.head(365).plot( y = '4a. close (USD)', ax = ax)\n",
    "data_BCH_fix.head(365).plot( y = '4a. close (USD)', ax = ax)\n",
    "ax.invert_xaxis()\n",
    "ax.legend(['ETHERIUM', 'LITECOIN', 'CARDANO', 'BITCOIN-CASH'])\n",
    "plt.title('Evolución en el ultimo año')\n",
    "plt.show()"
   ]
  },
  {
   "cell_type": "markdown",
   "metadata": {},
   "source": [
    "## Observaciones\n",
    "Efectivamente, ethereum tambien ha sido irregular, aunque no a niveles economicos como los de bitcoin. Es interesante tambien como ambas monedas tienen grandes caídas entre los meses de marzo(03), hasta el mes de Junio(06). y en el mes de noviembre(11) tambien sufre un bajon drástico. Ambas gráficas tienen un comportamiente bastante parecido. Veamos como se comportan las otras monedas."
   ]
  },
  {
   "cell_type": "markdown",
   "metadata": {},
   "source": [
    "## Observemos otra grafica, pero ahora sin bitcoin ni ethereum"
   ]
  },
  {
   "cell_type": "code",
   "execution_count": 17,
   "metadata": {},
   "outputs": [
    {
     "data": {
      "image/png": "[encoded data removed]",
      "text/plain": [
       "<Figure size 1152x576 with 1 Axes>"
      ]
     },
     "metadata": {
      "needs_background": "light"
     },
     "output_type": "display_data"
    }
   ],
   "source": [
    "fig, ax = plt.subplots()\n",
    "fig.set_size_inches(16, 8)\n",
    "\n",
    "data_LTC_fix.head(365).plot( y = '4a. close (USD)', ax = ax)\n",
    "data_ADA_fix.head(365).plot( y = '4a. close (USD)', ax = ax)\n",
    "data_BCH_fix.head(365).plot( y = '4a. close (USD)', ax = ax)\n",
    "ax.invert_xaxis()\n",
    "ax.legend(['LITECOIN', 'CARDANO', 'BITCOIN-CASH'])\n",
    "plt.title('Evolución en el ultimo año')\n",
    "plt.show()"
   ]
  },
  {
   "cell_type": "markdown",
   "metadata": {},
   "source": [
    "## Observaciones\n",
    "Se puede observar que litecoin y bitcoin bash tienen un comportamiento bastante parecido a las graficas de bitcoin y ethereum. Claro, a menor escala de precio, pero el patron de las graficas es el mismo. Ahora observemos la grafica de Cardano"
   ]
  },
  {
   "cell_type": "code",
   "execution_count": 18,
   "metadata": {},
   "outputs": [
    {
     "data": {
      "image/png": "[encoded data removed]",
      "text/plain": [
       "<Figure size 1152x576 with 1 Axes>"
      ]
     },
     "metadata": {
      "needs_background": "light"
     },
     "output_type": "display_data"
    }
   ],
   "source": [
    "fig, ax = plt.subplots()\n",
    "fig.set_size_inches(16, 8)\n",
    "\n",
    "data_ADA_fix.head(365).plot( y = '4a. close (USD)', ax = ax)\n",
    "ax.invert_xaxis()\n",
    "ax.legend(['CARDANO'])\n",
    "plt.title('Evolución en el ultimo año')\n",
    "plt.show()"
   ]
  },
  {
   "cell_type": "markdown",
   "metadata": {},
   "source": [
    "## Observaciones\n",
    "\n",
    "Se puede observar que esta moneda tambien tiene un comportamiento al de todas las demás. \n",
    "El hecho de que todas estas monedas hayan tenido  un bajon tan importante entre los meses de marzo a junio, probablemente haya sido el anuncio que realizó el gobierno de Estados Unidos sobre el aumento de inflacion interanual de un 8,6%, el máximo en 41 años. Esto sumado al asunto de la guerra entre Rusia y Ukrania, genera miedo en las personas las cuales realizan ventas masivas, ocacionando que la moneda decaiga.\n",
    "\n",
    "Aunque tambien se puede observar que ha habido un aumento en todas estas monedas a partir del inicio del 2023"
   ]
  },
  {
   "cell_type": "code",
   "execution_count": 19,
   "metadata": {},
   "outputs": [
    {
     "data": {
      "text/html": [
       "<div>\n",
       "<style scoped>\n",
       "    .dataframe tbody tr th:only-of-type {\n",
       "        vertical-align: middle;\n",
       "    }\n",
       "\n",
       "    .dataframe tbody tr th {\n",
       "        vertical-align: top;\n",
       "    }\n",
       "\n",
       "    .dataframe thead th {\n",
       "        text-align: right;\n",
       "    }\n",
       "</style>\n",
       "<table border=\"1\" class=\"dataframe\">\n",
       "  <thead>\n",
       "    <tr style=\"text-align: right;\">\n",
       "      <th></th>\n",
       "      <th>1a. open (USD)</th>\n",
       "      <th>2a. high (USD)</th>\n",
       "      <th>3a. low (USD)</th>\n",
       "      <th>4a. close (USD)</th>\n",
       "      <th>5. volume</th>\n",
       "      <th>6. market cap (USD)</th>\n",
       "    </tr>\n",
       "  </thead>\n",
       "  <tbody>\n",
       "    <tr>\n",
       "      <th>2023-02-23</th>\n",
       "      <td>24182.21</td>\n",
       "      <td>24246.06</td>\n",
       "      <td>24124.33</td>\n",
       "      <td>24160.27</td>\n",
       "      <td>14432.21108</td>\n",
       "      <td>14432.21108</td>\n",
       "    </tr>\n",
       "    <tr>\n",
       "      <th>2023-02-22</th>\n",
       "      <td>24450.67</td>\n",
       "      <td>24476.05</td>\n",
       "      <td>23574.69</td>\n",
       "      <td>24182.21</td>\n",
       "      <td>379425.75365</td>\n",
       "      <td>379425.75365</td>\n",
       "    </tr>\n",
       "    <tr>\n",
       "      <th>2023-02-21</th>\n",
       "      <td>24843.89</td>\n",
       "      <td>25250.00</td>\n",
       "      <td>24148.34</td>\n",
       "      <td>24452.16</td>\n",
       "      <td>376000.82868</td>\n",
       "      <td>376000.82868</td>\n",
       "    </tr>\n",
       "    <tr>\n",
       "      <th>2023-02-20</th>\n",
       "      <td>24272.51</td>\n",
       "      <td>25121.23</td>\n",
       "      <td>23840.83</td>\n",
       "      <td>24842.20</td>\n",
       "      <td>346938.56997</td>\n",
       "      <td>346938.56997</td>\n",
       "    </tr>\n",
       "    <tr>\n",
       "      <th>2023-02-19</th>\n",
       "      <td>24632.05</td>\n",
       "      <td>25192.00</td>\n",
       "      <td>24192.57</td>\n",
       "      <td>24271.76</td>\n",
       "      <td>300395.99542</td>\n",
       "      <td>300395.99542</td>\n",
       "    </tr>\n",
       "  </tbody>\n",
       "</table>\n",
       "</div>"
      ],
      "text/plain": [
       "            1a. open (USD)  2a. high (USD)  3a. low (USD)  4a. close (USD)  \\\n",
       "2023-02-23        24182.21        24246.06       24124.33         24160.27   \n",
       "2023-02-22        24450.67        24476.05       23574.69         24182.21   \n",
       "2023-02-21        24843.89        25250.00       24148.34         24452.16   \n",
       "2023-02-20        24272.51        25121.23       23840.83         24842.20   \n",
       "2023-02-19        24632.05        25192.00       24192.57         24271.76   \n",
       "\n",
       "               5. volume  6. market cap (USD)  \n",
       "2023-02-23   14432.21108          14432.21108  \n",
       "2023-02-22  379425.75365         379425.75365  \n",
       "2023-02-21  376000.82868         376000.82868  \n",
       "2023-02-20  346938.56997         346938.56997  \n",
       "2023-02-19  300395.99542         300395.99542  "
      ]
     },
     "execution_count": 19,
     "metadata": {},
     "output_type": "execute_result"
    }
   ],
   "source": [
    "df_BTC_fix.head()"
   ]
  },
  {
   "cell_type": "code",
   "execution_count": 59,
   "metadata": {},
   "outputs": [],
   "source": [
    "df_BTC_fix = df_BTC_fix.reset_index()\n",
    "df_ETH_fix = df_ETH_fix.reset_index()\n",
    "data_LTC_fix = data_LTC_fix.reset_index()\n",
    "data_ADA_fix = data_ADA_fix.reset_index()\n",
    "data_BCH_fix = data_BCH_fix.reset_index()"
   ]
  },
  {
   "cell_type": "code",
   "execution_count": 60,
   "metadata": {},
   "outputs": [],
   "source": [
    "df_ETH_fix = df_ETH_fix.rename({'index':'DATE','1a. open (USD)':'OPEN', '2a. high (USD)':'HIGH', '3a. low (USD)':'LOW', '4a. close (USD)':'CLOSE',\n",
    "       '5. volume':'VOLUME', '6. market cap (USD)':'MARKET CAP'}, axis=1)\n",
    "df_BTC_fix = df_BTC_fix.rename({'index':'DATE', '1a. open (USD)':'OPEN', '2a. high (USD)':'HIGH', '3a. low (USD)':'LOW', '4a. close (USD)':'CLOSE',\n",
    "       '5. volume':'VOLUME', '6. market cap (USD)':'MARKET CAP'}, axis=1)\n",
    "data_LTC_fix = data_LTC_fix.rename({'index':'DATE','1a. open (USD)':'OPEN', '2a. high (USD)':'HIGH', '3a. low (USD)':'LOW', '4a. close (USD)':'CLOSE',\n",
    "       '5. volume':'VOLUME', '6. market cap (USD)':'MARKET CAP'}, axis=1)\n",
    "data_ADA_fix = data_ADA_fix.rename({'index':'DATE','1a. open (USD)':'OPEN', '2a. high (USD)':'HIGH', '3a. low (USD)':'LOW', '4a. close (USD)':'CLOSE',\n",
    "       '5. volume':'VOLUME', '6. market cap (USD)':'MARKET CAP'}, axis=1)\n",
    "data_BCH_fix = data_BCH_fix.rename({'index':'DATE','1a. open (USD)':'OPEN', '2a. high (USD)':'HIGH', '3a. low (USD)':'LOW', '4a. close (USD)':'CLOSE',\n",
    "       '5. volume':'VOLUME', '6. market cap (USD)':'MARKET CAP'}, axis=1)\n"
   ]
  },
  {
   "cell_type": "code",
   "execution_count": 61,
   "metadata": {},
   "outputs": [],
   "source": [
    "df_ETH_fix['MONEDA'] = 'ETH'\n",
    "df_BTC_fix['MONEDA'] = 'BTC'\n",
    "data_BCH_fix['MONEDA'] = 'BCH'\n",
    "data_ADA_fix['MONEDA'] = 'ADA'\n",
    "data_LTC_fix['MONEDA'] = 'LTC'"
   ]
  },
  {
   "cell_type": "code",
   "execution_count": 23,
   "metadata": {},
   "outputs": [
    {
     "data": {
      "text/html": [
       "<div>\n",
       "<style scoped>\n",
       "    .dataframe tbody tr th:only-of-type {\n",
       "        vertical-align: middle;\n",
       "    }\n",
       "\n",
       "    .dataframe tbody tr th {\n",
       "        vertical-align: top;\n",
       "    }\n",
       "\n",
       "    .dataframe thead th {\n",
       "        text-align: right;\n",
       "    }\n",
       "</style>\n",
       "<table border=\"1\" class=\"dataframe\">\n",
       "  <thead>\n",
       "    <tr style=\"text-align: right;\">\n",
       "      <th></th>\n",
       "      <th>DATE</th>\n",
       "      <th>OPEN</th>\n",
       "      <th>HIGH</th>\n",
       "      <th>LOW</th>\n",
       "      <th>CLOSE</th>\n",
       "      <th>VOLUME</th>\n",
       "      <th>MARKET CAP</th>\n",
       "      <th>MONEDA</th>\n",
       "    </tr>\n",
       "  </thead>\n",
       "  <tbody>\n",
       "    <tr>\n",
       "      <th>0</th>\n",
       "      <td>2023-02-23</td>\n",
       "      <td>95.26</td>\n",
       "      <td>95.75</td>\n",
       "      <td>95.04</td>\n",
       "      <td>95.24</td>\n",
       "      <td>24676.136</td>\n",
       "      <td>24676.136</td>\n",
       "      <td>LTC</td>\n",
       "    </tr>\n",
       "    <tr>\n",
       "      <th>1</th>\n",
       "      <td>2023-02-22</td>\n",
       "      <td>93.81</td>\n",
       "      <td>95.56</td>\n",
       "      <td>91.57</td>\n",
       "      <td>95.28</td>\n",
       "      <td>693131.993</td>\n",
       "      <td>693131.993</td>\n",
       "      <td>LTC</td>\n",
       "    </tr>\n",
       "    <tr>\n",
       "      <th>2</th>\n",
       "      <td>2023-02-21</td>\n",
       "      <td>95.90</td>\n",
       "      <td>96.81</td>\n",
       "      <td>91.42</td>\n",
       "      <td>93.80</td>\n",
       "      <td>739676.014</td>\n",
       "      <td>739676.014</td>\n",
       "      <td>LTC</td>\n",
       "    </tr>\n",
       "    <tr>\n",
       "      <th>3</th>\n",
       "      <td>2023-02-20</td>\n",
       "      <td>97.43</td>\n",
       "      <td>98.72</td>\n",
       "      <td>94.39</td>\n",
       "      <td>95.90</td>\n",
       "      <td>935281.523</td>\n",
       "      <td>935281.523</td>\n",
       "      <td>LTC</td>\n",
       "    </tr>\n",
       "    <tr>\n",
       "      <th>4</th>\n",
       "      <td>2023-02-19</td>\n",
       "      <td>99.71</td>\n",
       "      <td>101.50</td>\n",
       "      <td>96.72</td>\n",
       "      <td>97.43</td>\n",
       "      <td>433963.156</td>\n",
       "      <td>433963.156</td>\n",
       "      <td>LTC</td>\n",
       "    </tr>\n",
       "  </tbody>\n",
       "</table>\n",
       "</div>"
      ],
      "text/plain": [
       "         DATE   OPEN    HIGH    LOW  CLOSE      VOLUME  MARKET CAP MONEDA\n",
       "0  2023-02-23  95.26   95.75  95.04  95.24   24676.136   24676.136    LTC\n",
       "1  2023-02-22  93.81   95.56  91.57  95.28  693131.993  693131.993    LTC\n",
       "2  2023-02-21  95.90   96.81  91.42  93.80  739676.014  739676.014    LTC\n",
       "3  2023-02-20  97.43   98.72  94.39  95.90  935281.523  935281.523    LTC\n",
       "4  2023-02-19  99.71  101.50  96.72  97.43  433963.156  433963.156    LTC"
      ]
     },
     "execution_count": 23,
     "metadata": {},
     "output_type": "execute_result"
    }
   ],
   "source": [
    "data_LTC_fix.head()"
   ]
  },
  {
   "cell_type": "code",
   "execution_count": 24,
   "metadata": {},
   "outputs": [
    {
     "data": {
      "text/html": [
       "<div>\n",
       "<style scoped>\n",
       "    .dataframe tbody tr th:only-of-type {\n",
       "        vertical-align: middle;\n",
       "    }\n",
       "\n",
       "    .dataframe tbody tr th {\n",
       "        vertical-align: top;\n",
       "    }\n",
       "\n",
       "    .dataframe thead th {\n",
       "        text-align: right;\n",
       "    }\n",
       "</style>\n",
       "<table border=\"1\" class=\"dataframe\">\n",
       "  <thead>\n",
       "    <tr style=\"text-align: right;\">\n",
       "      <th></th>\n",
       "      <th>DATE</th>\n",
       "      <th>OPEN</th>\n",
       "      <th>HIGH</th>\n",
       "      <th>LOW</th>\n",
       "      <th>CLOSE</th>\n",
       "      <th>VOLUME</th>\n",
       "      <th>MARKET CAP</th>\n",
       "      <th>MONEDA</th>\n",
       "    </tr>\n",
       "  </thead>\n",
       "  <tbody>\n",
       "    <tr>\n",
       "      <th>0</th>\n",
       "      <td>2023-02-23</td>\n",
       "      <td>1643.15</td>\n",
       "      <td>1647.09</td>\n",
       "      <td>1637.19</td>\n",
       "      <td>1642.76</td>\n",
       "      <td>20817.7558</td>\n",
       "      <td>20817.7558</td>\n",
       "      <td>ETH</td>\n",
       "    </tr>\n",
       "    <tr>\n",
       "      <th>1</th>\n",
       "      <td>2023-02-22</td>\n",
       "      <td>1659.77</td>\n",
       "      <td>1666.95</td>\n",
       "      <td>1595.07</td>\n",
       "      <td>1643.14</td>\n",
       "      <td>528875.4809</td>\n",
       "      <td>528875.4809</td>\n",
       "      <td>ETH</td>\n",
       "    </tr>\n",
       "    <tr>\n",
       "      <th>2</th>\n",
       "      <td>2023-02-21</td>\n",
       "      <td>1703.27</td>\n",
       "      <td>1716.66</td>\n",
       "      <td>1636.30</td>\n",
       "      <td>1659.76</td>\n",
       "      <td>520354.4688</td>\n",
       "      <td>520354.4688</td>\n",
       "      <td>ETH</td>\n",
       "    </tr>\n",
       "    <tr>\n",
       "      <th>3</th>\n",
       "      <td>2023-02-20</td>\n",
       "      <td>1679.74</td>\n",
       "      <td>1719.89</td>\n",
       "      <td>1650.56</td>\n",
       "      <td>1703.27</td>\n",
       "      <td>451314.8335</td>\n",
       "      <td>451314.8335</td>\n",
       "      <td>ETH</td>\n",
       "    </tr>\n",
       "    <tr>\n",
       "      <th>4</th>\n",
       "      <td>2023-02-19</td>\n",
       "      <td>1691.62</td>\n",
       "      <td>1726.59</td>\n",
       "      <td>1666.14</td>\n",
       "      <td>1679.75</td>\n",
       "      <td>401023.0477</td>\n",
       "      <td>401023.0477</td>\n",
       "      <td>ETH</td>\n",
       "    </tr>\n",
       "  </tbody>\n",
       "</table>\n",
       "</div>"
      ],
      "text/plain": [
       "         DATE     OPEN     HIGH      LOW    CLOSE       VOLUME   MARKET CAP  \\\n",
       "0  2023-02-23  1643.15  1647.09  1637.19  1642.76   20817.7558   20817.7558   \n",
       "1  2023-02-22  1659.77  1666.95  1595.07  1643.14  528875.4809  528875.4809   \n",
       "2  2023-02-21  1703.27  1716.66  1636.30  1659.76  520354.4688  520354.4688   \n",
       "3  2023-02-20  1679.74  1719.89  1650.56  1703.27  451314.8335  451314.8335   \n",
       "4  2023-02-19  1691.62  1726.59  1666.14  1679.75  401023.0477  401023.0477   \n",
       "\n",
       "  MONEDA  \n",
       "0    ETH  \n",
       "1    ETH  \n",
       "2    ETH  \n",
       "3    ETH  \n",
       "4    ETH  "
      ]
     },
     "execution_count": 24,
     "metadata": {},
     "output_type": "execute_result"
    }
   ],
   "source": [
    "df_ETH_fix.head()"
   ]
  },
  {
   "cell_type": "code",
   "execution_count": 25,
   "metadata": {},
   "outputs": [
    {
     "data": {
      "text/html": [
       "<div>\n",
       "<style scoped>\n",
       "    .dataframe tbody tr th:only-of-type {\n",
       "        vertical-align: middle;\n",
       "    }\n",
       "\n",
       "    .dataframe tbody tr th {\n",
       "        vertical-align: top;\n",
       "    }\n",
       "\n",
       "    .dataframe thead th {\n",
       "        text-align: right;\n",
       "    }\n",
       "</style>\n",
       "<table border=\"1\" class=\"dataframe\">\n",
       "  <thead>\n",
       "    <tr style=\"text-align: right;\">\n",
       "      <th></th>\n",
       "      <th>DATE</th>\n",
       "      <th>OPEN</th>\n",
       "      <th>HIGH</th>\n",
       "      <th>LOW</th>\n",
       "      <th>CLOSE</th>\n",
       "      <th>VOLUME</th>\n",
       "      <th>MARKET CAP</th>\n",
       "      <th>MONEDA</th>\n",
       "    </tr>\n",
       "  </thead>\n",
       "  <tbody>\n",
       "    <tr>\n",
       "      <th>0</th>\n",
       "      <td>2023-02-23</td>\n",
       "      <td>24182.21</td>\n",
       "      <td>24246.06</td>\n",
       "      <td>24124.33</td>\n",
       "      <td>24160.27</td>\n",
       "      <td>14432.21108</td>\n",
       "      <td>14432.21108</td>\n",
       "      <td>BTC</td>\n",
       "    </tr>\n",
       "    <tr>\n",
       "      <th>1</th>\n",
       "      <td>2023-02-22</td>\n",
       "      <td>24450.67</td>\n",
       "      <td>24476.05</td>\n",
       "      <td>23574.69</td>\n",
       "      <td>24182.21</td>\n",
       "      <td>379425.75365</td>\n",
       "      <td>379425.75365</td>\n",
       "      <td>BTC</td>\n",
       "    </tr>\n",
       "    <tr>\n",
       "      <th>2</th>\n",
       "      <td>2023-02-21</td>\n",
       "      <td>24843.89</td>\n",
       "      <td>25250.00</td>\n",
       "      <td>24148.34</td>\n",
       "      <td>24452.16</td>\n",
       "      <td>376000.82868</td>\n",
       "      <td>376000.82868</td>\n",
       "      <td>BTC</td>\n",
       "    </tr>\n",
       "    <tr>\n",
       "      <th>3</th>\n",
       "      <td>2023-02-20</td>\n",
       "      <td>24272.51</td>\n",
       "      <td>25121.23</td>\n",
       "      <td>23840.83</td>\n",
       "      <td>24842.20</td>\n",
       "      <td>346938.56997</td>\n",
       "      <td>346938.56997</td>\n",
       "      <td>BTC</td>\n",
       "    </tr>\n",
       "    <tr>\n",
       "      <th>4</th>\n",
       "      <td>2023-02-19</td>\n",
       "      <td>24632.05</td>\n",
       "      <td>25192.00</td>\n",
       "      <td>24192.57</td>\n",
       "      <td>24271.76</td>\n",
       "      <td>300395.99542</td>\n",
       "      <td>300395.99542</td>\n",
       "      <td>BTC</td>\n",
       "    </tr>\n",
       "  </tbody>\n",
       "</table>\n",
       "</div>"
      ],
      "text/plain": [
       "         DATE      OPEN      HIGH       LOW     CLOSE        VOLUME  \\\n",
       "0  2023-02-23  24182.21  24246.06  24124.33  24160.27   14432.21108   \n",
       "1  2023-02-22  24450.67  24476.05  23574.69  24182.21  379425.75365   \n",
       "2  2023-02-21  24843.89  25250.00  24148.34  24452.16  376000.82868   \n",
       "3  2023-02-20  24272.51  25121.23  23840.83  24842.20  346938.56997   \n",
       "4  2023-02-19  24632.05  25192.00  24192.57  24271.76  300395.99542   \n",
       "\n",
       "     MARKET CAP MONEDA  \n",
       "0   14432.21108    BTC  \n",
       "1  379425.75365    BTC  \n",
       "2  376000.82868    BTC  \n",
       "3  346938.56997    BTC  \n",
       "4  300395.99542    BTC  "
      ]
     },
     "execution_count": 25,
     "metadata": {},
     "output_type": "execute_result"
    }
   ],
   "source": [
    "df_BTC_fix.head()"
   ]
  },
  {
   "cell_type": "code",
   "execution_count": 26,
   "metadata": {},
   "outputs": [
    {
     "data": {
      "text/html": [
       "<div>\n",
       "<style scoped>\n",
       "    .dataframe tbody tr th:only-of-type {\n",
       "        vertical-align: middle;\n",
       "    }\n",
       "\n",
       "    .dataframe tbody tr th {\n",
       "        vertical-align: top;\n",
       "    }\n",
       "\n",
       "    .dataframe thead th {\n",
       "        text-align: right;\n",
       "    }\n",
       "</style>\n",
       "<table border=\"1\" class=\"dataframe\">\n",
       "  <thead>\n",
       "    <tr style=\"text-align: right;\">\n",
       "      <th></th>\n",
       "      <th>DATE</th>\n",
       "      <th>OPEN</th>\n",
       "      <th>HIGH</th>\n",
       "      <th>LOW</th>\n",
       "      <th>CLOSE</th>\n",
       "      <th>VOLUME</th>\n",
       "      <th>MARKET CAP</th>\n",
       "      <th>MONEDA</th>\n",
       "    </tr>\n",
       "  </thead>\n",
       "  <tbody>\n",
       "    <tr>\n",
       "      <th>0</th>\n",
       "      <td>2023-02-23</td>\n",
       "      <td>0.3889</td>\n",
       "      <td>0.3900</td>\n",
       "      <td>0.3879</td>\n",
       "      <td>0.3898</td>\n",
       "      <td>5396799.8</td>\n",
       "      <td>5396799.8</td>\n",
       "      <td>ADA</td>\n",
       "    </tr>\n",
       "    <tr>\n",
       "      <th>1</th>\n",
       "      <td>2023-02-22</td>\n",
       "      <td>0.3926</td>\n",
       "      <td>0.3929</td>\n",
       "      <td>0.3769</td>\n",
       "      <td>0.3888</td>\n",
       "      <td>123152287.0</td>\n",
       "      <td>123152287.0</td>\n",
       "      <td>ADA</td>\n",
       "    </tr>\n",
       "    <tr>\n",
       "      <th>2</th>\n",
       "      <td>2023-02-21</td>\n",
       "      <td>0.4037</td>\n",
       "      <td>0.4059</td>\n",
       "      <td>0.3855</td>\n",
       "      <td>0.3925</td>\n",
       "      <td>119823429.0</td>\n",
       "      <td>119823429.0</td>\n",
       "      <td>ADA</td>\n",
       "    </tr>\n",
       "    <tr>\n",
       "      <th>3</th>\n",
       "      <td>2023-02-20</td>\n",
       "      <td>0.3994</td>\n",
       "      <td>0.4098</td>\n",
       "      <td>0.3893</td>\n",
       "      <td>0.4038</td>\n",
       "      <td>116906377.7</td>\n",
       "      <td>116906377.7</td>\n",
       "      <td>ADA</td>\n",
       "    </tr>\n",
       "    <tr>\n",
       "      <th>4</th>\n",
       "      <td>2023-02-19</td>\n",
       "      <td>0.4060</td>\n",
       "      <td>0.4122</td>\n",
       "      <td>0.3968</td>\n",
       "      <td>0.3995</td>\n",
       "      <td>98181230.1</td>\n",
       "      <td>98181230.1</td>\n",
       "      <td>ADA</td>\n",
       "    </tr>\n",
       "  </tbody>\n",
       "</table>\n",
       "</div>"
      ],
      "text/plain": [
       "         DATE    OPEN    HIGH     LOW   CLOSE       VOLUME   MARKET CAP MONEDA\n",
       "0  2023-02-23  0.3889  0.3900  0.3879  0.3898    5396799.8    5396799.8    ADA\n",
       "1  2023-02-22  0.3926  0.3929  0.3769  0.3888  123152287.0  123152287.0    ADA\n",
       "2  2023-02-21  0.4037  0.4059  0.3855  0.3925  119823429.0  119823429.0    ADA\n",
       "3  2023-02-20  0.3994  0.4098  0.3893  0.4038  116906377.7  116906377.7    ADA\n",
       "4  2023-02-19  0.4060  0.4122  0.3968  0.3995   98181230.1   98181230.1    ADA"
      ]
     },
     "execution_count": 26,
     "metadata": {},
     "output_type": "execute_result"
    }
   ],
   "source": [
    "data_ADA_fix.head()"
   ]
  },
  {
   "cell_type": "code",
   "execution_count": 27,
   "metadata": {},
   "outputs": [
    {
     "data": {
      "text/html": [
       "<div>\n",
       "<style scoped>\n",
       "    .dataframe tbody tr th:only-of-type {\n",
       "        vertical-align: middle;\n",
       "    }\n",
       "\n",
       "    .dataframe tbody tr th {\n",
       "        vertical-align: top;\n",
       "    }\n",
       "\n",
       "    .dataframe thead th {\n",
       "        text-align: right;\n",
       "    }\n",
       "</style>\n",
       "<table border=\"1\" class=\"dataframe\">\n",
       "  <thead>\n",
       "    <tr style=\"text-align: right;\">\n",
       "      <th></th>\n",
       "      <th>DATE</th>\n",
       "      <th>OPEN</th>\n",
       "      <th>HIGH</th>\n",
       "      <th>LOW</th>\n",
       "      <th>CLOSE</th>\n",
       "      <th>VOLUME</th>\n",
       "      <th>MARKET CAP</th>\n",
       "      <th>MONEDA</th>\n",
       "    </tr>\n",
       "  </thead>\n",
       "  <tbody>\n",
       "    <tr>\n",
       "      <th>0</th>\n",
       "      <td>2023-02-23</td>\n",
       "      <td>141.9</td>\n",
       "      <td>142.2</td>\n",
       "      <td>140.9</td>\n",
       "      <td>141.7</td>\n",
       "      <td>3235.688</td>\n",
       "      <td>3235.688</td>\n",
       "      <td>BCH</td>\n",
       "    </tr>\n",
       "    <tr>\n",
       "      <th>1</th>\n",
       "      <td>2023-02-22</td>\n",
       "      <td>145.3</td>\n",
       "      <td>145.7</td>\n",
       "      <td>136.8</td>\n",
       "      <td>142.0</td>\n",
       "      <td>49878.017</td>\n",
       "      <td>49878.017</td>\n",
       "      <td>BCH</td>\n",
       "    </tr>\n",
       "    <tr>\n",
       "      <th>2</th>\n",
       "      <td>2023-02-21</td>\n",
       "      <td>145.0</td>\n",
       "      <td>154.4</td>\n",
       "      <td>142.7</td>\n",
       "      <td>145.3</td>\n",
       "      <td>144377.878</td>\n",
       "      <td>144377.878</td>\n",
       "      <td>BCH</td>\n",
       "    </tr>\n",
       "    <tr>\n",
       "      <th>3</th>\n",
       "      <td>2023-02-20</td>\n",
       "      <td>136.1</td>\n",
       "      <td>149.1</td>\n",
       "      <td>133.2</td>\n",
       "      <td>145.1</td>\n",
       "      <td>123482.868</td>\n",
       "      <td>123482.868</td>\n",
       "      <td>BCH</td>\n",
       "    </tr>\n",
       "    <tr>\n",
       "      <th>4</th>\n",
       "      <td>2023-02-19</td>\n",
       "      <td>136.2</td>\n",
       "      <td>141.1</td>\n",
       "      <td>134.6</td>\n",
       "      <td>136.0</td>\n",
       "      <td>58952.375</td>\n",
       "      <td>58952.375</td>\n",
       "      <td>BCH</td>\n",
       "    </tr>\n",
       "  </tbody>\n",
       "</table>\n",
       "</div>"
      ],
      "text/plain": [
       "         DATE   OPEN   HIGH    LOW  CLOSE      VOLUME  MARKET CAP MONEDA\n",
       "0  2023-02-23  141.9  142.2  140.9  141.7    3235.688    3235.688    BCH\n",
       "1  2023-02-22  145.3  145.7  136.8  142.0   49878.017   49878.017    BCH\n",
       "2  2023-02-21  145.0  154.4  142.7  145.3  144377.878  144377.878    BCH\n",
       "3  2023-02-20  136.1  149.1  133.2  145.1  123482.868  123482.868    BCH\n",
       "4  2023-02-19  136.2  141.1  134.6  136.0   58952.375   58952.375    BCH"
      ]
     },
     "execution_count": 27,
     "metadata": {},
     "output_type": "execute_result"
    }
   ],
   "source": [
    "data_BCH_fix.head()"
   ]
  },
  {
   "cell_type": "markdown",
   "metadata": {},
   "source": [
    "## Conectarme a BD de aws"
   ]
  },
  {
   "cell_type": "code",
   "execution_count": 62,
   "metadata": {},
   "outputs": [],
   "source": [
    "#conectar a bd\n",
    "def conect_db(host_name, dbname, port, username, password):\n",
    "    try:\n",
    "        conn = ps.connect(host=host_name, database=dbname, user=username, password=password, port=port)\n",
    "    except ps.OperationalError as e:\n",
    "        raise e\n",
    "    else:\n",
    "        print('Conectado')\n",
    "    return conn\n"
   ]
  },
  {
   "cell_type": "markdown",
   "metadata": {},
   "source": [
    "### Funciones para crear las tablas"
   ]
  },
  {
   "cell_type": "code",
   "execution_count": 63,
   "metadata": {},
   "outputs": [],
   "source": [
    "#Funciones encargadas de crear las tablas    \n",
    "def create_table_btc(curr):\n",
    "    create_table_command = (\"\"\"CREATE TABLE IF NOT EXISTS BITCOIN_TABLE(\n",
    "                            DATE_DAY VARCHAR(50) PRIMARY KEY,\n",
    "                            OPEN DECIMAL(10,2) NOT NULL,\n",
    "                            HIGH DECIMAL(10,2) NOT NULL,\n",
    "                            LOW DECIMAL(10,2) NOT NULL,\n",
    "                            CLOSE DECIMAL(10,2) NOT NULL,\n",
    "                            VOLUME DECIMAL(10,2) NOT NULL,\n",
    "                            MARKET_CAP DECIMAL(10,2) NOT NULL,\n",
    "                            MONEDA VARCHAR(50) NOT NULL\n",
    "    )\"\"\")\n",
    "    curr.execute(create_table_command)\n",
    "    \n",
    "def create_table_eth(curr):\n",
    "    create_table_command = (\"\"\"CREATE TABLE IF NOT EXISTS ETHEREUM_TABLE(\n",
    "                            DATE_DAY VARCHAR(50) PRIMARY KEY,\n",
    "                            OPEN DECIMAL(10,2) NOT NULL,\n",
    "                            HIGH DECIMAL(10,2) NOT NULL,\n",
    "                            LOW DECIMAL(10,2) NOT NULL,\n",
    "                            CLOSE DECIMAL(10,2) NOT NULL,\n",
    "                            VOLUME DECIMAL(10,2) NOT NULL,\n",
    "                            MARKET_CAP DECIMAL(10,2) NOT NULL,\n",
    "                            MONEDA VARCHAR(50) NOT NULL\n",
    "    )\"\"\")\n",
    "    curr.execute(create_table_command)\n",
    "    \n",
    "def create_table_bch(curr):\n",
    "    create_table_command = (\"\"\"CREATE TABLE IF NOT EXISTS BITCOIN_CASH_TABLE(\n",
    "                            DATE_DAY VARCHAR(50) PRIMARY KEY,\n",
    "                            OPEN DECIMAL(10,2) NOT NULL,\n",
    "                            HIGH DECIMAL(10,2) NOT NULL,\n",
    "                            LOW DECIMAL(10,2) NOT NULL,\n",
    "                            CLOSE DECIMAL(10,2) NOT NULL,\n",
    "                            VOLUME DECIMAL(10,2) NOT NULL,\n",
    "                            MARKET_CAP DECIMAL(10,2) NOT NULL,\n",
    "                            MONEDA VARCHAR(50) NOT NULL\n",
    "    )\"\"\")\n",
    "    curr.execute(create_table_command)\n",
    "\n"
   ]
  },
  {
   "cell_type": "markdown",
   "metadata": {},
   "source": [
    "### Funcion que actualiza y verifica si los datos a ingresar ya existen en la tabla"
   ]
  },
  {
   "cell_type": "code",
   "execution_count": 80,
   "metadata": {},
   "outputs": [],
   "source": [
    "#Bitcoin\n",
    "def update_table_btc(curr, df):\n",
    "    tmp_df = pd.DataFrame(columns=['DATE', 'OPEN', 'HIGH', 'LOW', 'CLOSE', 'VOLUME',\n",
    "                                   'MARKET CAP', 'MONEDA'])\n",
    "    \n",
    "    for i, row in df.iterrows():\n",
    "        if check_if_btc_exist(curr, row['DATE']):\n",
    "            a = 1\n",
    "        else:\n",
    "            tmp_df = tmp_df.append(row)\n",
    "    return tmp_df\n",
    "\n",
    "def check_if_btc_exist(curr, date):\n",
    "    \n",
    "    query = (\"\"\"SELECT DATE_DAY FROM BITCOIN_TABLE WHERE DATE_DAY = %s\"\"\")\n",
    "    curr.execute(query, (date,))\n",
    "    \n",
    "    return curr.fetchone() is not None\n",
    "\n",
    "#ethereum\n",
    "def update_table_eth(curr, df):\n",
    "    tmp_df = pd.DataFrame(columns=['DATE', 'OPEN', 'HIGH', 'LOW', 'CLOSE', 'VOLUME',\n",
    "                                   'MARKET CAP', 'MONEDA'])\n",
    "    \n",
    "    for i, row in df.iterrows():\n",
    "        if check_if_eth_exist(curr, row['DATE']):\n",
    "            a = 1\n",
    "        else:\n",
    "            tmp_df = tmp_df.append(row)\n",
    "    return tmp_df\n",
    "\n",
    "def check_if_eth_exist(curr, date):\n",
    "    \n",
    "    query = (\"\"\"SELECT DATE_DAY FROM ETHEREUM_TABLE WHERE DATE_DAY = %s\"\"\")\n",
    "    curr.execute(query, (date,))\n",
    "    \n",
    "    return curr.fetchone() is not None\n",
    "    \n",
    "#BITCOIN CASH\n",
    "def update_table_bch(curr, df):\n",
    "    tmp_df = pd.DataFrame(columns=['DATE', 'OPEN', 'HIGH', 'LOW', 'CLOSE', 'VOLUME',\n",
    "                                   'MARKET CAP', 'MONEDA'])\n",
    "    \n",
    "    for i, row in df.iterrows():\n",
    "        if check_if_bch_exist(curr, row['DATE']):\n",
    "            a = 1\n",
    "        else:\n",
    "            tmp_df = tmp_df.append(row)\n",
    "    return tmp_df\n",
    "\n",
    "def check_if_bch_exist(curr, date):\n",
    "    \n",
    "    query = (\"\"\"SELECT DATE_DAY FROM BITCOIN_CASH_TABLE WHERE DATE_DAY = %s\"\"\")\n",
    "    curr.execute(query, (date,))\n",
    "    \n",
    "    return curr.fetchone() is not None"
   ]
  },
  {
   "cell_type": "markdown",
   "metadata": {},
   "source": [
    "### Funcion que inserta los df a las tablas de las DB"
   ]
  },
  {
   "cell_type": "code",
   "execution_count": 89,
   "metadata": {},
   "outputs": [],
   "source": [
    "#Bitcoin\n",
    "def append_data_btc(curr, df):\n",
    "    for i, row in df.iterrows():\n",
    "        insert_data_btc(curr, row['DATE'], row['OPEN'], row['HIGH'], row['LOW'], row['CLOSE'], row['VOLUME'], row['MARKET CAP'], row['MONEDA'])\n",
    "        \n",
    "\n",
    "def insert_data_btc(curr, DATE, OPEN, HIGH, LOW, CLOSE, VOLUME, MARKET_CAP, MONEDA):\n",
    "\n",
    "    insert_into_db= (\"\"\"INSERT INTO BITCOIN_TABLE(DATE_DAY, OPEN, HIGH, LOW, CLOSE, VOLUME, MARKET_CAP, MONEDA)\n",
    "                    VALUES(%s, %s, %s, %s, %s, %s, %s, %s);\n",
    "                    \"\"\")\n",
    "    row_to_insert= (DATE, OPEN, HIGH, LOW, CLOSE, VOLUME, MARKET_CAP, MONEDA)\n",
    "    curr.execute(insert_into_db, row_to_insert)\n",
    "    \n",
    "    #ethereum\n",
    "def append_data_eth(curr, df):\n",
    "    for i, row in df.iterrows():\n",
    "        insert_data_eth(curr, row['DATE'], row['OPEN'], row['HIGH'], row['LOW'], row['CLOSE'], row['VOLUME'], row['MARKET CAP'], row['MONEDA'])\n",
    "        \n",
    "\n",
    "def insert_data_eth(curr, DATE, OPEN, HIGH, LOW, CLOSE, VOLUME, MARKET_CAP, MONEDA):\n",
    "\n",
    "    insert_into_db= (\"\"\"INSERT INTO ETHEREUM_TABLE(DATE_DAY, OPEN, HIGH, LOW, CLOSE, VOLUME, MARKET_CAP, MONEDA)\n",
    "                    VALUES(%s, %s, %s, %s, %s, %s, %s, %s);\n",
    "                    \"\"\")\n",
    "    row_to_insert= (DATE, OPEN, HIGH, LOW, CLOSE, VOLUME, MARKET_CAP, MONEDA)\n",
    "    curr.execute(insert_into_db, row_to_insert)\n",
    "    \n",
    "#Bitcoin_cash\n",
    "def append_data_bch(curr, df):\n",
    "    for i, row in df.iterrows():\n",
    "        insert_data_bch(curr, row['DATE'], row['OPEN'], row['HIGH'], row['LOW'], row['CLOSE'], row['VOLUME'], row['MARKET CAP'], row['MONEDA'])\n",
    "        \n",
    "\n",
    "def insert_data_bch(curr, DATE, OPEN, HIGH, LOW, CLOSE, VOLUME, MARKET_CAP, MONEDA):\n",
    "\n",
    "    insert_into_db= (\"\"\"INSERT INTO BITCOIN_CASH_TABLE(DATE_DAY, OPEN, HIGH, LOW, CLOSE, VOLUME, MARKET_CAP, MONEDA)\n",
    "                    VALUES(%s, %s, %s, %s, %s, %s, %s, %s);\n",
    "                    \"\"\")\n",
    "    row_to_insert= (DATE, OPEN, HIGH, LOW, CLOSE, VOLUME, MARKET_CAP, MONEDA)\n",
    "    curr.execute(insert_into_db, row_to_insert)"
   ]
  },
  {
   "cell_type": "code",
   "execution_count": 9,
   "metadata": {},
   "outputs": [],
   "source": [
    "host_name = cred.host_name\n",
    "dbname = cred.dbname\n",
    "port = '5432'\n",
    "username = 'luischifundo'\n",
    "password = cred.password\n",
    "conn= None\n"
   ]
  },
  {
   "cell_type": "code",
   "execution_count": null,
   "metadata": {},
   "outputs": [],
   "source": [
    "conn = conect_db(host_name, dbname, port, username, password) #conexion a la base de datos"
   ]
  },
  {
   "cell_type": "code",
   "execution_count": 68,
   "metadata": {},
   "outputs": [],
   "source": [
    "#Permite que python ejecute comandos de sql\n",
    "curr = conn.cursor()"
   ]
  },
  {
   "cell_type": "markdown",
   "metadata": {},
   "source": [
    "### creación de tablas"
   ]
  },
  {
   "cell_type": "code",
   "execution_count": 69,
   "metadata": {},
   "outputs": [],
   "source": [
    "create_table_btc(curr) #NEW TABLE BTC create\n",
    "create_table_eth(curr) #NEW TABLE eth create\n",
    "create_table_bch(curr) #NEW TABLE BCh create"
   ]
  },
  {
   "cell_type": "markdown",
   "metadata": {},
   "source": [
    "### verificar si los datos ya se encuentran en la tabla"
   ]
  },
  {
   "cell_type": "code",
   "execution_count": 77,
   "metadata": {},
   "outputs": [],
   "source": [
    "new_row_btc = update_table_btc(curr, df_BTC_fix.head(300)) #df de bitcoin actualizado"
   ]
  },
  {
   "cell_type": "code",
   "execution_count": 88,
   "metadata": {},
   "outputs": [
    {
     "data": {
      "text/html": [
       "<div>\n",
       "<style scoped>\n",
       "    .dataframe tbody tr th:only-of-type {\n",
       "        vertical-align: middle;\n",
       "    }\n",
       "\n",
       "    .dataframe tbody tr th {\n",
       "        vertical-align: top;\n",
       "    }\n",
       "\n",
       "    .dataframe thead th {\n",
       "        text-align: right;\n",
       "    }\n",
       "</style>\n",
       "<table border=\"1\" class=\"dataframe\">\n",
       "  <thead>\n",
       "    <tr style=\"text-align: right;\">\n",
       "      <th></th>\n",
       "      <th>DATE</th>\n",
       "      <th>OPEN</th>\n",
       "      <th>HIGH</th>\n",
       "      <th>LOW</th>\n",
       "      <th>CLOSE</th>\n",
       "      <th>VOLUME</th>\n",
       "      <th>MARKET CAP</th>\n",
       "      <th>MONEDA</th>\n",
       "    </tr>\n",
       "  </thead>\n",
       "  <tbody>\n",
       "    <tr>\n",
       "      <th>0</th>\n",
       "      <td>2023-02-23</td>\n",
       "      <td>24182.21</td>\n",
       "      <td>24246.06</td>\n",
       "      <td>24124.33</td>\n",
       "      <td>24160.27</td>\n",
       "      <td>14432.21108</td>\n",
       "      <td>14432.21108</td>\n",
       "      <td>BTC</td>\n",
       "    </tr>\n",
       "    <tr>\n",
       "      <th>1</th>\n",
       "      <td>2023-02-22</td>\n",
       "      <td>24450.67</td>\n",
       "      <td>24476.05</td>\n",
       "      <td>23574.69</td>\n",
       "      <td>24182.21</td>\n",
       "      <td>379425.75365</td>\n",
       "      <td>379425.75365</td>\n",
       "      <td>BTC</td>\n",
       "    </tr>\n",
       "    <tr>\n",
       "      <th>2</th>\n",
       "      <td>2023-02-21</td>\n",
       "      <td>24843.89</td>\n",
       "      <td>25250.00</td>\n",
       "      <td>24148.34</td>\n",
       "      <td>24452.16</td>\n",
       "      <td>376000.82868</td>\n",
       "      <td>376000.82868</td>\n",
       "      <td>BTC</td>\n",
       "    </tr>\n",
       "    <tr>\n",
       "      <th>3</th>\n",
       "      <td>2023-02-20</td>\n",
       "      <td>24272.51</td>\n",
       "      <td>25121.23</td>\n",
       "      <td>23840.83</td>\n",
       "      <td>24842.20</td>\n",
       "      <td>346938.56997</td>\n",
       "      <td>346938.56997</td>\n",
       "      <td>BTC</td>\n",
       "    </tr>\n",
       "    <tr>\n",
       "      <th>4</th>\n",
       "      <td>2023-02-19</td>\n",
       "      <td>24632.05</td>\n",
       "      <td>25192.00</td>\n",
       "      <td>24192.57</td>\n",
       "      <td>24271.76</td>\n",
       "      <td>300395.99542</td>\n",
       "      <td>300395.99542</td>\n",
       "      <td>BTC</td>\n",
       "    </tr>\n",
       "  </tbody>\n",
       "</table>\n",
       "</div>"
      ],
      "text/plain": [
       "         DATE      OPEN      HIGH       LOW     CLOSE        VOLUME  \\\n",
       "0  2023-02-23  24182.21  24246.06  24124.33  24160.27   14432.21108   \n",
       "1  2023-02-22  24450.67  24476.05  23574.69  24182.21  379425.75365   \n",
       "2  2023-02-21  24843.89  25250.00  24148.34  24452.16  376000.82868   \n",
       "3  2023-02-20  24272.51  25121.23  23840.83  24842.20  346938.56997   \n",
       "4  2023-02-19  24632.05  25192.00  24192.57  24271.76  300395.99542   \n",
       "\n",
       "     MARKET CAP MONEDA  \n",
       "0   14432.21108    BTC  \n",
       "1  379425.75365    BTC  \n",
       "2  376000.82868    BTC  \n",
       "3  346938.56997    BTC  \n",
       "4  300395.99542    BTC  "
      ]
     },
     "execution_count": 88,
     "metadata": {},
     "output_type": "execute_result"
    }
   ],
   "source": [
    "new_row_btc.head()"
   ]
  },
  {
   "cell_type": "code",
   "execution_count": 81,
   "metadata": {},
   "outputs": [],
   "source": [
    "new_row_eth = update_table_eth(curr, df_ETH_fix.head(300)) #df de bitcoin actualizado"
   ]
  },
  {
   "cell_type": "code",
   "execution_count": 87,
   "metadata": {},
   "outputs": [
    {
     "data": {
      "text/html": [
       "<div>\n",
       "<style scoped>\n",
       "    .dataframe tbody tr th:only-of-type {\n",
       "        vertical-align: middle;\n",
       "    }\n",
       "\n",
       "    .dataframe tbody tr th {\n",
       "        vertical-align: top;\n",
       "    }\n",
       "\n",
       "    .dataframe thead th {\n",
       "        text-align: right;\n",
       "    }\n",
       "</style>\n",
       "<table border=\"1\" class=\"dataframe\">\n",
       "  <thead>\n",
       "    <tr style=\"text-align: right;\">\n",
       "      <th></th>\n",
       "      <th>DATE</th>\n",
       "      <th>OPEN</th>\n",
       "      <th>HIGH</th>\n",
       "      <th>LOW</th>\n",
       "      <th>CLOSE</th>\n",
       "      <th>VOLUME</th>\n",
       "      <th>MARKET CAP</th>\n",
       "      <th>MONEDA</th>\n",
       "    </tr>\n",
       "  </thead>\n",
       "  <tbody>\n",
       "    <tr>\n",
       "      <th>0</th>\n",
       "      <td>2023-02-23</td>\n",
       "      <td>1643.15</td>\n",
       "      <td>1647.09</td>\n",
       "      <td>1637.19</td>\n",
       "      <td>1642.76</td>\n",
       "      <td>20817.7558</td>\n",
       "      <td>20817.7558</td>\n",
       "      <td>ETH</td>\n",
       "    </tr>\n",
       "    <tr>\n",
       "      <th>1</th>\n",
       "      <td>2023-02-22</td>\n",
       "      <td>1659.77</td>\n",
       "      <td>1666.95</td>\n",
       "      <td>1595.07</td>\n",
       "      <td>1643.14</td>\n",
       "      <td>528875.4809</td>\n",
       "      <td>528875.4809</td>\n",
       "      <td>ETH</td>\n",
       "    </tr>\n",
       "    <tr>\n",
       "      <th>2</th>\n",
       "      <td>2023-02-21</td>\n",
       "      <td>1703.27</td>\n",
       "      <td>1716.66</td>\n",
       "      <td>1636.30</td>\n",
       "      <td>1659.76</td>\n",
       "      <td>520354.4688</td>\n",
       "      <td>520354.4688</td>\n",
       "      <td>ETH</td>\n",
       "    </tr>\n",
       "    <tr>\n",
       "      <th>3</th>\n",
       "      <td>2023-02-20</td>\n",
       "      <td>1679.74</td>\n",
       "      <td>1719.89</td>\n",
       "      <td>1650.56</td>\n",
       "      <td>1703.27</td>\n",
       "      <td>451314.8335</td>\n",
       "      <td>451314.8335</td>\n",
       "      <td>ETH</td>\n",
       "    </tr>\n",
       "    <tr>\n",
       "      <th>4</th>\n",
       "      <td>2023-02-19</td>\n",
       "      <td>1691.62</td>\n",
       "      <td>1726.59</td>\n",
       "      <td>1666.14</td>\n",
       "      <td>1679.75</td>\n",
       "      <td>401023.0477</td>\n",
       "      <td>401023.0477</td>\n",
       "      <td>ETH</td>\n",
       "    </tr>\n",
       "  </tbody>\n",
       "</table>\n",
       "</div>"
      ],
      "text/plain": [
       "         DATE     OPEN     HIGH      LOW    CLOSE       VOLUME   MARKET CAP  \\\n",
       "0  2023-02-23  1643.15  1647.09  1637.19  1642.76   20817.7558   20817.7558   \n",
       "1  2023-02-22  1659.77  1666.95  1595.07  1643.14  528875.4809  528875.4809   \n",
       "2  2023-02-21  1703.27  1716.66  1636.30  1659.76  520354.4688  520354.4688   \n",
       "3  2023-02-20  1679.74  1719.89  1650.56  1703.27  451314.8335  451314.8335   \n",
       "4  2023-02-19  1691.62  1726.59  1666.14  1679.75  401023.0477  401023.0477   \n",
       "\n",
       "  MONEDA  \n",
       "0    ETH  \n",
       "1    ETH  \n",
       "2    ETH  \n",
       "3    ETH  \n",
       "4    ETH  "
      ]
     },
     "execution_count": 87,
     "metadata": {},
     "output_type": "execute_result"
    }
   ],
   "source": [
    "new_row_eth.head()"
   ]
  },
  {
   "cell_type": "code",
   "execution_count": 82,
   "metadata": {},
   "outputs": [],
   "source": [
    "new_row_bch = update_table_bch(curr, data_BCH_fix.head(300)) #df de bitcoin actualizado"
   ]
  },
  {
   "cell_type": "code",
   "execution_count": 85,
   "metadata": {},
   "outputs": [
    {
     "data": {
      "text/html": [
       "<div>\n",
       "<style scoped>\n",
       "    .dataframe tbody tr th:only-of-type {\n",
       "        vertical-align: middle;\n",
       "    }\n",
       "\n",
       "    .dataframe tbody tr th {\n",
       "        vertical-align: top;\n",
       "    }\n",
       "\n",
       "    .dataframe thead th {\n",
       "        text-align: right;\n",
       "    }\n",
       "</style>\n",
       "<table border=\"1\" class=\"dataframe\">\n",
       "  <thead>\n",
       "    <tr style=\"text-align: right;\">\n",
       "      <th></th>\n",
       "      <th>DATE</th>\n",
       "      <th>OPEN</th>\n",
       "      <th>HIGH</th>\n",
       "      <th>LOW</th>\n",
       "      <th>CLOSE</th>\n",
       "      <th>VOLUME</th>\n",
       "      <th>MARKET CAP</th>\n",
       "      <th>MONEDA</th>\n",
       "    </tr>\n",
       "  </thead>\n",
       "  <tbody>\n",
       "    <tr>\n",
       "      <th>0</th>\n",
       "      <td>2023-02-23</td>\n",
       "      <td>141.9</td>\n",
       "      <td>142.2</td>\n",
       "      <td>140.9</td>\n",
       "      <td>141.7</td>\n",
       "      <td>3235.688</td>\n",
       "      <td>3235.688</td>\n",
       "      <td>BCH</td>\n",
       "    </tr>\n",
       "    <tr>\n",
       "      <th>1</th>\n",
       "      <td>2023-02-22</td>\n",
       "      <td>145.3</td>\n",
       "      <td>145.7</td>\n",
       "      <td>136.8</td>\n",
       "      <td>142.0</td>\n",
       "      <td>49878.017</td>\n",
       "      <td>49878.017</td>\n",
       "      <td>BCH</td>\n",
       "    </tr>\n",
       "    <tr>\n",
       "      <th>2</th>\n",
       "      <td>2023-02-21</td>\n",
       "      <td>145.0</td>\n",
       "      <td>154.4</td>\n",
       "      <td>142.7</td>\n",
       "      <td>145.3</td>\n",
       "      <td>144377.878</td>\n",
       "      <td>144377.878</td>\n",
       "      <td>BCH</td>\n",
       "    </tr>\n",
       "    <tr>\n",
       "      <th>3</th>\n",
       "      <td>2023-02-20</td>\n",
       "      <td>136.1</td>\n",
       "      <td>149.1</td>\n",
       "      <td>133.2</td>\n",
       "      <td>145.1</td>\n",
       "      <td>123482.868</td>\n",
       "      <td>123482.868</td>\n",
       "      <td>BCH</td>\n",
       "    </tr>\n",
       "    <tr>\n",
       "      <th>4</th>\n",
       "      <td>2023-02-19</td>\n",
       "      <td>136.2</td>\n",
       "      <td>141.1</td>\n",
       "      <td>134.6</td>\n",
       "      <td>136.0</td>\n",
       "      <td>58952.375</td>\n",
       "      <td>58952.375</td>\n",
       "      <td>BCH</td>\n",
       "    </tr>\n",
       "  </tbody>\n",
       "</table>\n",
       "</div>"
      ],
      "text/plain": [
       "         DATE   OPEN   HIGH    LOW  CLOSE      VOLUME  MARKET CAP MONEDA\n",
       "0  2023-02-23  141.9  142.2  140.9  141.7    3235.688    3235.688    BCH\n",
       "1  2023-02-22  145.3  145.7  136.8  142.0   49878.017   49878.017    BCH\n",
       "2  2023-02-21  145.0  154.4  142.7  145.3  144377.878  144377.878    BCH\n",
       "3  2023-02-20  136.1  149.1  133.2  145.1  123482.868  123482.868    BCH\n",
       "4  2023-02-19  136.2  141.1  134.6  136.0   58952.375   58952.375    BCH"
      ]
     },
     "execution_count": 85,
     "metadata": {},
     "output_type": "execute_result"
    }
   ],
   "source": [
    "new_row_bch.head()"
   ]
  },
  {
   "cell_type": "markdown",
   "metadata": {},
   "source": [
    "### Inserción de los datos en la base de datos"
   ]
  },
  {
   "cell_type": "code",
   "execution_count": null,
   "metadata": {},
   "outputs": [],
   "source": [
    "append_data_btc(curr, new_row_btc) #tabla bitcoin cargada"
   ]
  },
  {
   "cell_type": "code",
   "execution_count": 90,
   "metadata": {},
   "outputs": [],
   "source": [
    "append_data_eth(curr, new_row_eth) #tabla ethereum cargada"
   ]
  },
  {
   "cell_type": "code",
   "execution_count": 91,
   "metadata": {},
   "outputs": [],
   "source": [
    "append_data_bch(curr, new_row_bch) #tabla bitcoin_cash cargada"
   ]
  },
  {
   "cell_type": "code",
   "execution_count": 93,
   "metadata": {},
   "outputs": [],
   "source": [
    "conn.commit()"
   ]
  },
  {
   "cell_type": "markdown",
   "metadata": {},
   "source": [
    "## Conclusión\n",
    "\n",
    "El mercado de las cryptomonedas es algo complicado de entender, ya que depende de muchos factores, y mas el de una moneda como bitcoin, pero podemos concluir con que el comportamiento de las otras criptomonedas es parecido al de una cadena, ya que si bitcoin sube o baja las demás probablemente tendrán la misma tendencia.\n",
    "\n",
    "Por otra parte, fue interesante realizar el proceso de ETL, ya que es algo muy importante cuando se trabaja con datos. Más aún cuando se trabaja con servicios en la nube, es una herramienta poderosa que nos facilita muchas cosas."
   ]
  },
  {
   "cell_type": "code",
   "execution_count": null,
   "metadata": {},
   "outputs": [],
   "source": []
  }
 ],
 "metadata": {
  "kernelspec": {
   "display_name": "Python 3",
   "language": "python",
   "name": "python3"
  },
  "language_info": {
   "codemirror_mode": {
    "name": "ipython",
    "version": 3
   },
   "file_extension": ".py",
   "mimetype": "text/x-python",
   "name": "python",
   "nbconvert_exporter": "python",
   "pygments_lexer": "ipython3",
   "version": "3.8.5"
  }
 },
 "nbformat": 4,
 "nbformat_minor": 4
}
